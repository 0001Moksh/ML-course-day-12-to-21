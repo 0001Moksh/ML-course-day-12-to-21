{
 "cells": [
  {
   "cell_type": "markdown",
   "id": "b0ef7758-61d6-454c-9fe4-cd154609558a",
   "metadata": {},
   "source": [
    "# File handling"
   ]
  },
  {
   "cell_type": "markdown",
   "id": "4d66b8e9-dd25-4abd-b0d6-7a4731f75f0f",
   "metadata": {},
   "source": [
    "File handling in Python ka matlab hota hai file se data read karna, write karna ya update karna—basically file ke saath kaam karna using Python code. Yeh especially useful hota hai jab aapko data save karna ho ya kisi external file se data lena ho."
   ]
  },
  {
   "cell_type": "markdown",
   "id": "d0686a0f-e57e-42db-ab1e-3f9fa21d68dc",
   "metadata": {},
   "source": [
    "Operations are: \n",
    "\n",
    "> Read, Write, Append "
   ]
  },
  {
   "cell_type": "code",
   "execution_count": 38,
   "id": "d0a189fb-06c3-46c4-81cd-a1579bb6ced7",
   "metadata": {},
   "outputs": [],
   "source": [
    "file = open(\"example.txt\", \"w\")\n",
    "file.write(\"\"\"Hello students!\n",
    "how are you all \n",
    "we are learning python \n",
    "With Nexyug tech company \n",
    "           \"\"\")\n",
    "file.write(\"Welcome to Nexyug tech\")\n",
    "file.close()  # if not then memory and information leak"
   ]
  },
  {
   "cell_type": "code",
   "execution_count": 39,
   "id": "77107b53-6521-4556-8e33-8a7f14756fd7",
   "metadata": {},
   "outputs": [
    {
     "name": "stdout",
     "output_type": "stream",
     "text": [
      "Hello students!\n",
      "how are you all \n",
      "we are learning python \n",
      "With Nexyug tech company \n",
      "           Welcome to Nexyug tech\n"
     ]
    }
   ],
   "source": [
    "file = open(\"example.txt\", \"r\")\n",
    "content = file.read() # provide entire content\n",
    "print(content)\n",
    "file.close()"
   ]
  },
  {
   "cell_type": "code",
   "execution_count": 40,
   "id": "62266b3e-53fc-439a-802e-198ec9965056",
   "metadata": {},
   "outputs": [
    {
     "name": "stdout",
     "output_type": "stream",
     "text": [
      "Hello students!\n",
      "\n"
     ]
    }
   ],
   "source": [
    "file = open(\"example.txt\", \"r\")\n",
    "content = file.readline() # read line by line\n",
    "print(content) "
   ]
  },
  {
   "cell_type": "code",
   "execution_count": 41,
   "id": "ad5e019d-d355-4f14-afdc-9573042b88ee",
   "metadata": {},
   "outputs": [
    {
     "name": "stdout",
     "output_type": "stream",
     "text": [
      "['Hello students!\\n', 'how are you all \\n', 'we are learning python \\n', 'With Nexyug tech company \\n', '           Welcome to Nexyug tech']\n"
     ]
    }
   ],
   "source": [
    "file = open(\"example.txt\", \"r\")\n",
    "content = file.readlines() # entire content in list format\n",
    "print(content) "
   ]
  },
  {
   "cell_type": "code",
   "execution_count": 42,
   "id": "f29a9b09-f46e-403d-b03c-f85b5210d90a",
   "metadata": {},
   "outputs": [],
   "source": [
    "# Write mode (overwrites)\n",
    "file = open(\"example.txt\", \"w\")\n",
    "file.write(\"This will overwrite the file.\") # exist data replace with this or overwrite the content\n",
    "file.close()"
   ]
  },
  {
   "cell_type": "code",
   "execution_count": 43,
   "id": "85cf610e-ba0e-4663-b422-88da8a514100",
   "metadata": {},
   "outputs": [],
   "source": [
    "# Append mode\n",
    "file = open(\"example.txt\", \"a\")\n",
    "file.write(\"\\nThis is appended.\") # existinng data m add \n",
    "file.close()"
   ]
  },
  {
   "cell_type": "code",
   "execution_count": 44,
   "id": "d8d262fa-a89b-498b-b39e-fa9fb9ac16bb",
   "metadata": {},
   "outputs": [
    {
     "name": "stdout",
     "output_type": "stream",
     "text": [
      "This will overwrite the file.\n",
      "This is appended.\n"
     ]
    }
   ],
   "source": [
    "with open(\"example.txt\", \"r\") as file:\n",
    "    print(file.read())"
   ]
  },
  {
   "cell_type": "code",
   "execution_count": 48,
   "id": "ace651b6-471a-48b2-a95d-4beb6b94919b",
   "metadata": {},
   "outputs": [
    {
     "name": "stdout",
     "output_type": "stream",
     "text": [
      "101 - Ankit\n",
      "102 - Priya\n",
      "103 - Rahul\n"
     ]
    }
   ],
   "source": [
    "# Writing\n",
    "with open(\"students.txt\", \"w\") as f:\n",
    "    f.write(\"101 - Ankit \\n102 - Priya \\n103 - Rahul\\n\")\n",
    "\n",
    "# Reading\n",
    "with open(\"students.txt\", \"r\") as f:\n",
    "    lines = f.readlines()\n",
    "    for line in lines:\n",
    "        print(line.strip())"
   ]
  },
  {
   "cell_type": "code",
   "execution_count": 50,
   "id": "919695a3-79e7-4fbe-878b-0deb872424fe",
   "metadata": {},
   "outputs": [
    {
     "name": "stdin",
     "output_type": "stream",
     "text": [
      "Enter your name:  mo\n",
      "Enter your age:  45\n"
     ]
    }
   ],
   "source": [
    "user_name = input(\"Enter your name: \")\n",
    "user_age = int(input(\"Enter your age: \"))\n",
    "with open(\"s.txt\",\"w\") as f:\n",
    "    f.write(f'''\n",
    "{user_name} is a python devloper.\n",
    "At the age of {user_age}.\n",
    "    ''')"
   ]
  },
  {
   "cell_type": "code",
   "execution_count": 51,
   "id": "ca8fbda7-900c-4478-bf1f-5d215a9640ba",
   "metadata": {},
   "outputs": [],
   "source": [
    "import os\n",
    "os.remove(\"s.txt\")"
   ]
  },
  {
   "cell_type": "markdown",
   "id": "48bf1d14-3795-439d-84c9-88bbb8df70d2",
   "metadata": {},
   "source": [
    "# Home Work\n",
    "> write a program to store user input (name, age) in a file and read it back."
   ]
  },
  {
   "cell_type": "code",
   "execution_count": null,
   "id": "1990ebaf-970b-496d-99d8-738af073fe66",
   "metadata": {},
   "outputs": [],
   "source": []
  }
 ],
 "metadata": {
  "kernelspec": {
   "display_name": "Python 3 (ipykernel)",
   "language": "python",
   "name": "python3"
  },
  "language_info": {
   "codemirror_mode": {
    "name": "ipython",
    "version": 3
   },
   "file_extension": ".py",
   "mimetype": "text/x-python",
   "name": "python",
   "nbconvert_exporter": "python",
   "pygments_lexer": "ipython3",
   "version": "3.12.6"
  }
 },
 "nbformat": 4,
 "nbformat_minor": 5
}
