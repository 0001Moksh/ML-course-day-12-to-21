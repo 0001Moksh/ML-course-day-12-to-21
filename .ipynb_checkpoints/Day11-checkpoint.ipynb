{
 "cells": [
  {
   "cell_type": "markdown",
   "id": "4e7fa923-83d2-4f9c-8b83-c8c407c4298e",
   "metadata": {},
   "source": [
    "# OOPs (Object-Oriented Programming)"
   ]
  },
  {
   "cell_type": "markdown",
   "id": "ebd6f897-e153-46e9-84dc-a7891141a7a2",
   "metadata": {},
   "source": [
    "OOPs ka full form hai Object-Oriented Programming System. Ye ek programming style hai jismein hum code ko chhote-chhote objects mein divide karte hain. Har object ke paas apne data (properties) aur functions (methods) hote hain. Isse code reusable, manageable, aur secure ho jata hai."
   ]
  },
  {
   "cell_type": "markdown",
   "id": "999ef08d-49cf-403a-93cb-089ac647da1d",
   "metadata": {},
   "source": [
    "Class-->\n",
    "Blueprint ya template jisse objects bante hain.\n",
    "> Class Car ka design/blueprint\n",
    "\n",
    "Object-->\n",
    "Real-world entity jo class ka instance hai.\n",
    ">Maruti, BMW, Audi (actual cars)\n",
    "\n",
    "# OOPs ke 4 Main Pillars (Concepts)\n",
    "Inheritance-->\n",
    "Ek class dusri class ki properties/methods use kar sakti hai.\n",
    ">SportsCar inherits Car\n",
    "\n",
    "Polymorphism-->\n",
    "Ek method alag-alag tarike se kaam kar sakta hai.\n",
    ">Start method: remote se ya key se\n",
    "\n",
    "Encapsulation-->\n",
    "Data ko methods ke andar band karna (data hiding).\n",
    ">Car ki engine ka cover\n",
    "\n",
    "Abstraction-->\n",
    "Sirf important cheezein dikhana, details chhupana.\n",
    ">Accelerator dabana, andar kaam hide hai\n"
   ]
  },
  {
   "cell_type": "code",
   "execution_count": 36,
   "id": "1e275251-5a20-4b2e-aa0b-74a5caeeb548",
   "metadata": {},
   "outputs": [
    {
     "name": "stdout",
     "output_type": "stream",
     "text": [
      "Name: Amit, Age: 20\n"
     ]
    },
    {
     "data": {
      "text/plain": [
       "20"
      ]
     },
     "execution_count": 36,
     "metadata": {},
     "output_type": "execute_result"
    }
   ],
   "source": [
    "class Student:\n",
    "    # Constructor\n",
    "    def __init__(self, name, age):\n",
    "        self.name = name\n",
    "        self.age = age\n",
    "\n",
    "    # Method\n",
    "    def show(self):\n",
    "        print(f\"Name: {self.name}, Age: {self.age}\")\n",
    "\n",
    "# Object banana\n",
    "student1 = Student(\"Amit\", 20)\n",
    "student1.show()\n",
    "student1.age\n",
    "\n",
    "# Yahan Student ek class hai, student1 ek object hai."
   ]
  },
  {
   "cell_type": "markdown",
   "id": "70c403f2-fdbe-4d3f-8d5d-a6efb3aa6037",
   "metadata": {},
   "source": [
    "# Inheritance \n",
    "Single Inheritance: Ek child class, ek parent class se inherit karti hai.\n",
    "\n",
    "Multiple Inheritance: Ek child class, multiple parent classes se inherit karti hai.\n",
    "\n",
    "Multilevel Inheritance: Ek class, dusri class se, aur wo teesri se inherit karti hai.\n",
    "\n",
    "Hierarchical Inheritance: Ek parent class se multiple child classes inherit karti hain.\n",
    "\n",
    "Hybrid Inheritance: Inheritance types ka combination"
   ]
  },
  {
   "cell_type": "code",
   "execution_count": 17,
   "id": "433c2dec-5ca7-44ee-b485-094a317d8153",
   "metadata": {},
   "outputs": [
    {
     "name": "stdout",
     "output_type": "stream",
     "text": [
      "Animal bol raha hai\n",
      "Dog bhauk raha hai\n"
     ]
    }
   ],
   "source": [
    "class Animal:\n",
    "    def speak(self):\n",
    "        print(\"Animal bol raha hai\")\n",
    "\n",
    "class Dog(Animal):\n",
    "    def bark(self):\n",
    "        print(\"Dog bhauk raha hai\")\n",
    "\n",
    "dog1 = Dog()\n",
    "dog1.speak()  # Parent class ka method\n",
    "dog1.bark()   # Apna method\n",
    "\n",
    "# Dog class ne Animal class ke method ko inherit kiya hai."
   ]
  },
  {
   "cell_type": "markdown",
   "id": "6b9b89b9-1752-4bb1-b168-28e642900680",
   "metadata": {},
   "source": [
    "# Polymorphism "
   ]
  },
  {
   "cell_type": "code",
   "execution_count": 20,
   "id": "4f8d18ab-2216-455a-82a0-fe9005a7308f",
   "metadata": {},
   "outputs": [
    {
     "name": "stdout",
     "output_type": "stream",
     "text": [
      "Sparrow chirps\n",
      "Parrot talks\n"
     ]
    }
   ],
   "source": [
    "class Bird:\n",
    "    def sound(self):\n",
    "        print(\"Birds make sound\")\n",
    "\n",
    "class Sparrow(Bird):\n",
    "    def sound(self):\n",
    "        print(\"Sparrow chirps\")\n",
    "\n",
    "class Parrot(Bird):\n",
    "    def sound(self):\n",
    "        print(\"Parrot talks\")\n",
    "\n",
    "for bird in [Sparrow(), Parrot()]:\n",
    "    bird.sound()\n",
    "# Yahan sound() method har class mein alag kaam kar raha hai."
   ]
  },
  {
   "cell_type": "code",
   "execution_count": 23,
   "id": "fbaff265-12cd-4247-87dc-0d3d4b4bc020",
   "metadata": {},
   "outputs": [],
   "source": [
    "# Encapsulation (Data Hiding)"
   ]
  },
  {
   "cell_type": "code",
   "execution_count": 32,
   "id": "7960acac-97b5-4d0e-b38e-efbfac4ef394",
   "metadata": {},
   "outputs": [
    {
     "name": "stdout",
     "output_type": "stream",
     "text": [
      "Driving at 200 km/hr\n"
     ]
    }
   ],
   "source": [
    "class Car:\n",
    "    def __init__(self):\n",
    "        self.__maxspeed = 200  # Private variable\n",
    "\n",
    "    def drive(self):\n",
    "        print(f\"Driving at {self.__maxspeed} km/hr\")\n",
    "\n",
    "car1 = Car()\n",
    "car1.drive()\n",
    "# car1.__maxspeed  # Error: direct access allowed nahi hai\n",
    "\n",
    "# Double underscore (__) se variable private ho jata hai."
   ]
  },
  {
   "cell_type": "code",
   "execution_count": 38,
   "id": "c2a75c49-0e00-4b5c-aa21-7e8663cb6d07",
   "metadata": {},
   "outputs": [],
   "source": [
    "# Abstraction (Sirf Zaroori Cheezein)"
   ]
  },
  {
   "cell_type": "code",
   "execution_count": 46,
   "id": "5c3fc8e5-fdc1-4241-a542-0030b39a9c3d",
   "metadata": {},
   "outputs": [
    {
     "name": "stdout",
     "output_type": "stream",
     "text": [
      "78.5\n"
     ]
    }
   ],
   "source": [
    "from abc import ABC, abstractmethod\n",
    "\n",
    "class Shape(ABC):\n",
    "    @abstractmethod\n",
    "    def area(self):\n",
    "        pass\n",
    "\n",
    "class Circle(Shape):\n",
    "    def __init__(self, radius):\n",
    "        self.radius = radius\n",
    "\n",
    "    def area(self):\n",
    "        return 3.14 * self.radius * self.radius\n",
    "\n",
    "circle1 = Circle(5)\n",
    "print(circle1.area())\n",
    "# Abstract class mein sirf definition hoti hai, implementation child class mein hoti hai"
   ]
  },
  {
   "cell_type": "code",
   "execution_count": null,
   "id": "1a3fea0a-5f4b-4ba9-9d4b-42940cb560e0",
   "metadata": {},
   "outputs": [],
   "source": []
  }
 ],
 "metadata": {
  "kernelspec": {
   "display_name": "Python 3 (ipykernel)",
   "language": "python",
   "name": "python3"
  },
  "language_info": {
   "codemirror_mode": {
    "name": "ipython",
    "version": 3
   },
   "file_extension": ".py",
   "mimetype": "text/x-python",
   "name": "python",
   "nbconvert_exporter": "python",
   "pygments_lexer": "ipython3",
   "version": "3.12.6"
  }
 },
 "nbformat": 4,
 "nbformat_minor": 5
}
