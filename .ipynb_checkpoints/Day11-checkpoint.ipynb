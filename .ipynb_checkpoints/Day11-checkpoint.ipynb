{
 "cells": [
  {
   "cell_type": "markdown",
   "id": "4e7fa923-83d2-4f9c-8b83-c8c407c4298e",
   "metadata": {},
   "source": [
    "# OOPs (Object-Oriented Programming)"
   ]
  },
  {
   "cell_type": "markdown",
   "id": "ebd6f897-e153-46e9-84dc-a7891141a7a2",
   "metadata": {},
   "source": [
    "OOPs ka full form hai Object-Oriented Programming System. Ye ek programming style hai jismein hum code ko chhote-chhote objects mein divide karte hain. Har object ke paas apne data (properties) aur functions (methods) hote hain. Isse code reusable, manageable, aur secure ho jata hai."
   ]
  },
  {
   "cell_type": "markdown",
   "id": "999ef08d-49cf-403a-93cb-089ac647da1d",
   "metadata": {},
   "source": [
    "Class-->\n",
    "Blueprint ya template jisse objects bante hain.\n",
    "> Class Car ka design/blueprint\n",
    "\n",
    "Object-->\n",
    "Real-world entity jo class ka instance hai.\n",
    ">Maruti, BMW, Audi (actual cars)\n",
    "\n",
    "# OOPs ke 4 Main Pillars (Concepts)\n",
    "Inheritance-->\n",
    "Ek class dusri class ki properties/methods use kar sakti hai.\n",
    ">SportsCar inherits Car\n",
    "\n",
    "Polymorphism-->\n",
    "Ek method alag-alag tarike se kaam kar sakta hai.\n",
    ">Start method: remote se ya key se\n",
    "\n",
    "Encapsulation-->\n",
    "Data ko methods ke andar band karna (data hiding).\n",
    ">Car ki engine ka cover\n",
    "\n",
    "Abstraction-->\n",
    "Sirf important cheezein dikhana, details chhupana.\n",
    ">Accelerator dabana, andar kaam hide hai\n"
   ]
  },
  {
   "cell_type": "code",
   "execution_count": 36,
   "id": "1e275251-5a20-4b2e-aa0b-74a5caeeb548",
   "metadata": {},
   "outputs": [
    {
     "name": "stdout",
     "output_type": "stream",
     "text": [
      "Name: Amit, Age: 20\n"
     ]
    },
    {
     "data": {
      "text/plain": [
       "20"
      ]
     },
     "execution_count": 36,
     "metadata": {},
     "output_type": "execute_result"
    }
   ],
   "source": [
    "class Student:\n",
    "    # Constructor\n",
    "    def __init__(self, name, age):\n",
    "        self.name = name\n",
    "        self.age = age\n",
    "\n",
    "    # Method\n",
    "    def show(self):\n",
    "        print(f\"Name: {self.name}, Age: {self.age}\")\n",
    "\n",
    "# Object banana\n",
    "student1 = Student(\"Amit\", 20)\n",
    "student1.show()\n",
    "student1.age\n",
    "\n",
    "# Yahan Student ek class hai, student1 ek object hai."
   ]
  },
  {
   "cell_type": "markdown",
   "id": "70c403f2-fdbe-4d3f-8d5d-a6efb3aa6037",
   "metadata": {},
   "source": [
    "# Inheritance \n",
    "Single Inheritance: Ek child class, ek parent class se inherit karti hai.\n",
    "\n",
    "Multiple Inheritance: Ek child class, multiple parent classes se inherit karti hai.\n",
    "\n",
    "Multilevel Inheritance: Ek class, dusri class se, aur wo teesri se inherit karti hai.\n",
    "\n",
    "Hierarchical Inheritance: Ek parent class se multiple child classes inherit karti hain.\n",
    "\n",
    "Hybrid Inheritance: Inheritance types ka combination"
   ]
  },
  {
   "cell_type": "code",
   "execution_count": 17,
   "id": "433c2dec-5ca7-44ee-b485-094a317d8153",
   "metadata": {},
   "outputs": [
    {
     "name": "stdout",
     "output_type": "stream",
     "text": [
      "Animal bol raha hai\n",
      "Dog bhauk raha hai\n"
     ]
    }
   ],
   "source": [
    "class Animal:\n",
    "    def speak(self):\n",
    "        print(\"Animal bol raha hai\")\n",
    "\n",
    "class Dog(Animal):\n",
    "    def bark(self):\n",
    "        print(\"Dog bhauk raha hai\")\n",
    "\n",
    "dog1 = Dog()\n",
    "dog1.speak()  # Parent class ka method\n",
    "dog1.bark()   # Apna method\n",
    "\n",
    "# Dog class ne Animal class ke method ko inherit kiya hai."
   ]
  },
  {
   "cell_type": "markdown",
   "id": "6b9b89b9-1752-4bb1-b168-28e642900680",
   "metadata": {},
   "source": [
    "# Polymorphism "
   ]
  },
  {
   "cell_type": "code",
   "execution_count": 20,
   "id": "4f8d18ab-2216-455a-82a0-fe9005a7308f",
   "metadata": {},
   "outputs": [
    {
     "name": "stdout",
     "output_type": "stream",
     "text": [
      "Sparrow chirps\n",
      "Parrot talks\n"
     ]
    }
   ],
   "source": [
    "class Bird:\n",
    "    def sound(self):\n",
    "        print(\"Birds make sound\")\n",
    "\n",
    "class Sparrow(Bird):\n",
    "    def sound(self):\n",
    "        print(\"Sparrow chirps\")\n",
    "\n",
    "class Parrot(Bird):\n",
    "    def sound(self):\n",
    "        print(\"Parrot talks\")\n",
    "\n",
    "for bird in [Sparrow(), Parrot()]:\n",
    "    bird.sound()\n",
    "# Yahan sound() method har class mein alag kaam kar raha hai."
   ]
  },
  {
   "cell_type": "markdown",
   "id": "81335efd-885c-4ec0-a5d0-214c6bb75064",
   "metadata": {},
   "source": [
    "# Encapsulation (Data Hiding)"
   ]
  },
  {
   "cell_type": "code",
   "execution_count": 32,
   "id": "7960acac-97b5-4d0e-b38e-efbfac4ef394",
   "metadata": {},
   "outputs": [
    {
     "name": "stdout",
     "output_type": "stream",
     "text": [
      "Driving at 200 km/hr\n"
     ]
    }
   ],
   "source": [
    "class Car:\n",
    "    def __init__(self):\n",
    "        self.__maxspeed = 200  # Private variable\n",
    "\n",
    "    def drive(self):\n",
    "        print(f\"Driving at {self.__maxspeed} km/hr\")\n",
    "\n",
    "car1 = Car()\n",
    "car1.drive()\n",
    "# car1.__maxspeed  # Error: direct access allowed nahi hai\n",
    "\n",
    "# Double underscore (__) se variable private ho jata hai."
   ]
  },
  {
   "cell_type": "markdown",
   "id": "6cbf0a4a-860e-480c-820c-a7d6a1539241",
   "metadata": {},
   "source": [
    "# Abstraction (Sirf Zaroori Cheezein)"
   ]
  },
  {
   "cell_type": "code",
   "execution_count": 4,
   "id": "5c3fc8e5-fdc1-4241-a542-0030b39a9c3d",
   "metadata": {},
   "outputs": [
    {
     "ename": "TypeError",
     "evalue": "Can't instantiate abstract class Dog without an implementation for abstract method 'walk'",
     "output_type": "error",
     "traceback": [
      "\u001b[1;31m---------------------------------------------------------------------------\u001b[0m",
      "\u001b[1;31mTypeError\u001b[0m                                 Traceback (most recent call last)",
      "Cell \u001b[1;32mIn[4], line 34\u001b[0m\n\u001b[0;32m     31\u001b[0m     \u001b[38;5;28;01mdef\u001b[39;00m \u001b[38;5;21mwalk\u001b[39m(\u001b[38;5;28mself\u001b[39m):\n\u001b[0;32m     32\u001b[0m         \u001b[38;5;28mprint\u001b[39m(\u001b[38;5;124m\"\u001b[39m\u001b[38;5;124mCat walks gracefully\u001b[39m\u001b[38;5;124m\"\u001b[39m)\n\u001b[1;32m---> 34\u001b[0m dog \u001b[38;5;241m=\u001b[39m \u001b[43mDog\u001b[49m\u001b[43m(\u001b[49m\u001b[43m)\u001b[49m\n\u001b[0;32m     35\u001b[0m cat \u001b[38;5;241m=\u001b[39m Cat()\n\u001b[0;32m     37\u001b[0m dog\u001b[38;5;241m.\u001b[39mspeak()     \u001b[38;5;66;03m# Output: Dog barks 🐕\u001b[39;00m\n",
      "\u001b[1;31mTypeError\u001b[0m: Can't instantiate abstract class Dog without an implementation for abstract method 'walk'"
     ]
    }
   ],
   "source": [
    "# “Normal inheritance mein child class parent ke sare methods use kar sakti hai,\n",
    "# lekin abstraction mein parent class sirf ‘rule banata hai’ ki child class ko ye\n",
    "# method implement karna hi padega.”\n",
    "from abc import ABC, abstractmethod\n",
    "\n",
    "class Animal(ABC):\n",
    "\n",
    "    @abstractmethod\n",
    "    def speak(self):\n",
    "        print(\"This animal wants to say something...\")  # ✅ Placeholder logic\n",
    "\n",
    "    @abstractmethod\n",
    "    def walk(self):\n",
    "        pass  # ✅ Another hint-like logic\n",
    "# yanha abstractmethod wale function is details hide hongi\n",
    "    \n",
    "    def breathe(self):\n",
    "        print(\"All animals breathe oxygen 🫁\")  # ✅ Concrete method\n",
    "\n",
    "\n",
    "class Dog(Animal):\n",
    "    def speak(self):\n",
    "        print(\"Dog barks 🐕\")\n",
    "\n",
    "    def walk(self):\n",
    "        print(\"Dog walks on 4 legs\")\n",
    "# agr hum abstract function use nhi krnge to error show hoga \n",
    "\n",
    "class Cat(Animal):\n",
    "    def speak(self):\n",
    "        print(\"Cat meows 😺\")\n",
    "\n",
    "    def walk(self):\n",
    "        print(\"Cat walks gracefully\")\n",
    "\n",
    "dog = Dog()\n",
    "cat = Cat()\n",
    "\n",
    "dog.speak()     # Output: Dog barks 🐕\n",
    "dog.walk()      # Output: Dog walks on 4 legs\n",
    "dog.breathe()   # Output: All animals breathe oxygen 🫁\n",
    "\n",
    "cat.speak()     # Output: Cat meows 😺\n",
    "cat.walk()      # Output: Cat walks gracefully\n",
    "cat.breathe()   # Output: All animals breathe oxygen 🫁"
   ]
  },
  {
   "cell_type": "code",
   "execution_count": null,
   "id": "8256e174-09eb-4c69-88a6-48246b9fcc28",
   "metadata": {},
   "outputs": [],
   "source": []
  }
 ],
 "metadata": {
  "kernelspec": {
   "display_name": "Python 3 (ipykernel)",
   "language": "python",
   "name": "python3"
  },
  "language_info": {
   "codemirror_mode": {
    "name": "ipython",
    "version": 3
   },
   "file_extension": ".py",
   "mimetype": "text/x-python",
   "name": "python",
   "nbconvert_exporter": "python",
   "pygments_lexer": "ipython3",
   "version": "3.12.6"
  }
 },
 "nbformat": 4,
 "nbformat_minor": 5
}
