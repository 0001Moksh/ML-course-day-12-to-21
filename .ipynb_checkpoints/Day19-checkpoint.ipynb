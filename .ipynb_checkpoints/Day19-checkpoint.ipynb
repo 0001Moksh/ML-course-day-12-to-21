{
 "cells": [
  {
   "cell_type": "markdown",
   "id": "b5cca969-ba86-4133-a76b-c5a17d15ccdd",
   "metadata": {},
   "source": [
    "# K mean Clustering "
   ]
  },
  {
   "cell_type": "markdown",
   "id": "816c33cb-a95c-4709-b69d-b4fbde3dda61",
   "metadata": {},
   "source": [
    "- **K-Means** ek unsupervised learning algorithm hai.\n",
    "- Yeh similar data points ko groups (clusters) mein divide karta hai.\n",
    "- Har cluster ke paas ek centroid hota hai (mean value).\n",
    "- Algorithm repeat hota hai jab tak centroid fix nahi ho jata.\n",
    "\n",
    "### 💡 Real-world Example:\n",
    "Imagine karo tumhare paas kuch customers ka data hai (age, income etc.)\n",
    "Agar tum unko 3 categories mein divide karna chaahte ho — toh KMeans use kar sakte ho.\n",
    "\n",
    "### 🔢 K = 3 ka matlab?\n",
    "Hum 3 clusters banayenge:\n",
    "- Cluster 0: High income, young\n",
    "- Cluster 1: Low income, older\n",
    "- Cluster 2: Medium income, mid-age\n"
   ]
  },
  {
   "cell_type": "code",
   "execution_count": 1,
   "id": "04666596-6979-4259-b4e0-1bfd98323f19",
   "metadata": {},
   "outputs": [],
   "source": [
    "import pandas as pd\n",
    "from sklearn.preprocessing import LabelEncoder\n",
    "from sklearn.cluster import KMeans\n",
    "import joblib  # model save karne ke liye\n",
    "\n",
    "df = pd.read_csv(\"Data Sample Storage/kmean Customer Data-100.csv\")"
   ]
  },
  {
   "cell_type": "code",
   "execution_count": 2,
   "id": "21494331-b900-430f-aee5-fceb656e084f",
   "metadata": {},
   "outputs": [
    {
     "data": {
      "text/html": [
       "<div>\n",
       "<style scoped>\n",
       "    .dataframe tbody tr th:only-of-type {\n",
       "        vertical-align: middle;\n",
       "    }\n",
       "\n",
       "    .dataframe tbody tr th {\n",
       "        vertical-align: top;\n",
       "    }\n",
       "\n",
       "    .dataframe thead th {\n",
       "        text-align: right;\n",
       "    }\n",
       "</style>\n",
       "<table border=\"1\" class=\"dataframe\">\n",
       "  <thead>\n",
       "    <tr style=\"text-align: right;\">\n",
       "      <th></th>\n",
       "      <th>Age</th>\n",
       "      <th>Income</th>\n",
       "      <th>Gender</th>\n",
       "      <th>City</th>\n",
       "    </tr>\n",
       "  </thead>\n",
       "  <tbody>\n",
       "    <tr>\n",
       "      <th>0</th>\n",
       "      <td>56.0</td>\n",
       "      <td>28392.0</td>\n",
       "      <td>Male</td>\n",
       "      <td>Bangalore</td>\n",
       "    </tr>\n",
       "    <tr>\n",
       "      <th>1</th>\n",
       "      <td>NaN</td>\n",
       "      <td>50535.0</td>\n",
       "      <td>Male</td>\n",
       "      <td>Bangalore</td>\n",
       "    </tr>\n",
       "    <tr>\n",
       "      <th>2</th>\n",
       "      <td>32.0</td>\n",
       "      <td>98603.0</td>\n",
       "      <td>Female</td>\n",
       "      <td>Mumbai</td>\n",
       "    </tr>\n",
       "    <tr>\n",
       "      <th>3</th>\n",
       "      <td>25.0</td>\n",
       "      <td>72256.0</td>\n",
       "      <td>Female</td>\n",
       "      <td>Bangalore</td>\n",
       "    </tr>\n",
       "    <tr>\n",
       "      <th>4</th>\n",
       "      <td>38.0</td>\n",
       "      <td>55222.0</td>\n",
       "      <td>Male</td>\n",
       "      <td>Mumbai</td>\n",
       "    </tr>\n",
       "  </tbody>\n",
       "</table>\n",
       "</div>"
      ],
      "text/plain": [
       "    Age   Income  Gender       City\n",
       "0  56.0  28392.0    Male  Bangalore\n",
       "1   NaN  50535.0    Male  Bangalore\n",
       "2  32.0  98603.0  Female     Mumbai\n",
       "3  25.0  72256.0  Female  Bangalore\n",
       "4  38.0  55222.0    Male     Mumbai"
      ]
     },
     "execution_count": 2,
     "metadata": {},
     "output_type": "execute_result"
    }
   ],
   "source": [
    "df.head()"
   ]
  },
  {
   "cell_type": "code",
   "execution_count": 3,
   "id": "0ae2148e-e2ef-4583-b027-3258e26f4c29",
   "metadata": {},
   "outputs": [
    {
     "data": {
      "text/plain": [
       "Age       5\n",
       "Income    5\n",
       "Gender    0\n",
       "City      0\n",
       "dtype: int64"
      ]
     },
     "execution_count": 3,
     "metadata": {},
     "output_type": "execute_result"
    }
   ],
   "source": [
    "df.isnull().sum()"
   ]
  },
  {
   "cell_type": "code",
   "execution_count": 4,
   "id": "038213d0-469a-4c26-8bae-1367da47c1e0",
   "metadata": {},
   "outputs": [],
   "source": [
    "# ✅ Missing values fill karo - Age & Income ke liye mean se\n",
    "df['Age'] = df['Age'].fillna(23)\n",
    "df['Income'] = df['Income'].fillna(df['Income'].mean())"
   ]
  },
  {
   "cell_type": "code",
   "execution_count": 5,
   "id": "f91139c5-14b4-4496-a4e5-d06bccb0576a",
   "metadata": {},
   "outputs": [
    {
     "data": {
      "text/html": [
       "<div>\n",
       "<style scoped>\n",
       "    .dataframe tbody tr th:only-of-type {\n",
       "        vertical-align: middle;\n",
       "    }\n",
       "\n",
       "    .dataframe tbody tr th {\n",
       "        vertical-align: top;\n",
       "    }\n",
       "\n",
       "    .dataframe thead th {\n",
       "        text-align: right;\n",
       "    }\n",
       "</style>\n",
       "<table border=\"1\" class=\"dataframe\">\n",
       "  <thead>\n",
       "    <tr style=\"text-align: right;\">\n",
       "      <th></th>\n",
       "      <th>Age</th>\n",
       "      <th>Income</th>\n",
       "      <th>Gender</th>\n",
       "      <th>City</th>\n",
       "    </tr>\n",
       "  </thead>\n",
       "  <tbody>\n",
       "    <tr>\n",
       "      <th>0</th>\n",
       "      <td>56.0</td>\n",
       "      <td>28392.0</td>\n",
       "      <td>Male</td>\n",
       "      <td>Bangalore</td>\n",
       "    </tr>\n",
       "    <tr>\n",
       "      <th>1</th>\n",
       "      <td>23.0</td>\n",
       "      <td>50535.0</td>\n",
       "      <td>Male</td>\n",
       "      <td>Bangalore</td>\n",
       "    </tr>\n",
       "    <tr>\n",
       "      <th>2</th>\n",
       "      <td>32.0</td>\n",
       "      <td>98603.0</td>\n",
       "      <td>Female</td>\n",
       "      <td>Mumbai</td>\n",
       "    </tr>\n",
       "    <tr>\n",
       "      <th>3</th>\n",
       "      <td>25.0</td>\n",
       "      <td>72256.0</td>\n",
       "      <td>Female</td>\n",
       "      <td>Bangalore</td>\n",
       "    </tr>\n",
       "    <tr>\n",
       "      <th>4</th>\n",
       "      <td>38.0</td>\n",
       "      <td>55222.0</td>\n",
       "      <td>Male</td>\n",
       "      <td>Mumbai</td>\n",
       "    </tr>\n",
       "  </tbody>\n",
       "</table>\n",
       "</div>"
      ],
      "text/plain": [
       "    Age   Income  Gender       City\n",
       "0  56.0  28392.0    Male  Bangalore\n",
       "1  23.0  50535.0    Male  Bangalore\n",
       "2  32.0  98603.0  Female     Mumbai\n",
       "3  25.0  72256.0  Female  Bangalore\n",
       "4  38.0  55222.0    Male     Mumbai"
      ]
     },
     "execution_count": 5,
     "metadata": {},
     "output_type": "execute_result"
    }
   ],
   "source": [
    "df.head()"
   ]
  },
  {
   "cell_type": "code",
   "execution_count": 6,
   "id": "f7eaccb1-dda3-44ff-9fa2-becdc316f7e2",
   "metadata": {},
   "outputs": [],
   "source": [
    "# Step 2: Label encode Gender and City\n",
    "le_gender = LabelEncoder()\n",
    "le_city = LabelEncoder()\n",
    "df['Gender_encoded'] = le_gender.fit_transform(df['Gender'])\n",
    "df['City_encoded'] = le_city.fit_transform(df['City'])"
   ]
  },
  {
   "cell_type": "code",
   "execution_count": 7,
   "id": "aeaa1404-3c9c-4e2e-98be-c2944e85ffb0",
   "metadata": {},
   "outputs": [
    {
     "data": {
      "text/html": [
       "<div>\n",
       "<style scoped>\n",
       "    .dataframe tbody tr th:only-of-type {\n",
       "        vertical-align: middle;\n",
       "    }\n",
       "\n",
       "    .dataframe tbody tr th {\n",
       "        vertical-align: top;\n",
       "    }\n",
       "\n",
       "    .dataframe thead th {\n",
       "        text-align: right;\n",
       "    }\n",
       "</style>\n",
       "<table border=\"1\" class=\"dataframe\">\n",
       "  <thead>\n",
       "    <tr style=\"text-align: right;\">\n",
       "      <th></th>\n",
       "      <th>Age</th>\n",
       "      <th>Income</th>\n",
       "      <th>Gender</th>\n",
       "      <th>City</th>\n",
       "      <th>Gender_encoded</th>\n",
       "      <th>City_encoded</th>\n",
       "    </tr>\n",
       "  </thead>\n",
       "  <tbody>\n",
       "    <tr>\n",
       "      <th>0</th>\n",
       "      <td>56.0</td>\n",
       "      <td>28392.0</td>\n",
       "      <td>Male</td>\n",
       "      <td>Bangalore</td>\n",
       "      <td>1</td>\n",
       "      <td>0</td>\n",
       "    </tr>\n",
       "    <tr>\n",
       "      <th>1</th>\n",
       "      <td>23.0</td>\n",
       "      <td>50535.0</td>\n",
       "      <td>Male</td>\n",
       "      <td>Bangalore</td>\n",
       "      <td>1</td>\n",
       "      <td>0</td>\n",
       "    </tr>\n",
       "    <tr>\n",
       "      <th>2</th>\n",
       "      <td>32.0</td>\n",
       "      <td>98603.0</td>\n",
       "      <td>Female</td>\n",
       "      <td>Mumbai</td>\n",
       "      <td>0</td>\n",
       "      <td>3</td>\n",
       "    </tr>\n",
       "    <tr>\n",
       "      <th>3</th>\n",
       "      <td>25.0</td>\n",
       "      <td>72256.0</td>\n",
       "      <td>Female</td>\n",
       "      <td>Bangalore</td>\n",
       "      <td>0</td>\n",
       "      <td>0</td>\n",
       "    </tr>\n",
       "    <tr>\n",
       "      <th>4</th>\n",
       "      <td>38.0</td>\n",
       "      <td>55222.0</td>\n",
       "      <td>Male</td>\n",
       "      <td>Mumbai</td>\n",
       "      <td>1</td>\n",
       "      <td>3</td>\n",
       "    </tr>\n",
       "  </tbody>\n",
       "</table>\n",
       "</div>"
      ],
      "text/plain": [
       "    Age   Income  Gender       City  Gender_encoded  City_encoded\n",
       "0  56.0  28392.0    Male  Bangalore               1             0\n",
       "1  23.0  50535.0    Male  Bangalore               1             0\n",
       "2  32.0  98603.0  Female     Mumbai               0             3\n",
       "3  25.0  72256.0  Female  Bangalore               0             0\n",
       "4  38.0  55222.0    Male     Mumbai               1             3"
      ]
     },
     "execution_count": 7,
     "metadata": {},
     "output_type": "execute_result"
    }
   ],
   "source": [
    "df.head()"
   ]
  },
  {
   "cell_type": "code",
   "execution_count": 8,
   "id": "4ba229f6-278a-4689-9a1a-6c42d3d08fca",
   "metadata": {},
   "outputs": [],
   "source": [
    "X = df[['Age', 'Income', 'Gender_encoded', 'City_encoded']]\n",
    "\n",
    "# Step 3: Model train karo\n",
    "kmeans_model = KMeans(n_clusters=3)\n",
    "y_kmeans = kmeans_model.fit_predict(X)\n"
   ]
  },
  {
   "cell_type": "code",
   "execution_count": 9,
   "id": "79f762cb-b521-4ba7-a2e6-7deae709aa3f",
   "metadata": {},
   "outputs": [],
   "source": [
    "import matplotlib.pyplot as plt"
   ]
  },
  {
   "cell_type": "code",
   "execution_count": 10,
   "id": "eb374081-1777-4de9-a835-74d042e4992a",
   "metadata": {},
   "outputs": [
    {
     "data": {
      "image/png": "[encoded data removed]",
      "text/plain": [
       "<Figure size 640x480 with 1 Axes>"
      ]
     },
     "metadata": {},
     "output_type": "display_data"
    }
   ],
   "source": [
    "plt.scatter(X['Income'], X['Age'], c=y_kmeans )\n",
    "plt.title('Customer Segments by Income & Age')\n",
    "plt.xlabel('Income')\n",
    "plt.ylabel('Age')\n",
    "plt.show()"
   ]
  },
  {
   "cell_type": "markdown",
   "id": "2e12f6e6-1bed-413e-9869-a86b679af43e",
   "metadata": {},
   "source": [
    "### Yeh graph dikhata hai ki har person ka income aur age kya hai, aur KMeans ne usse kis cluster mein daala hai. Har color ek alag cluster ko represent karta hai. Isse visually samajh aata hai ki similar log ek group mein hain"
   ]
  },
  {
   "cell_type": "code",
   "execution_count": 11,
   "id": "57820880-2b41-4d87-9404-4ccd152821f7",
   "metadata": {},
   "outputs": [
    {
     "data": {
      "text/plain": [
       "['kmeans_model.pkl']"
      ]
     },
     "execution_count": 11,
     "metadata": {},
     "output_type": "execute_result"
    }
   ],
   "source": [
    "# Step 4: Model ko save karo .pkl file mein\n",
    "joblib.dump(kmeans_model, \"kmeans_model.pkl\")"
   ]
  },
  {
   "cell_type": "code",
   "execution_count": 12,
   "id": "c65d07dc-b4cb-4e5f-bd47-e53bc7638039",
   "metadata": {},
   "outputs": [
    {
     "name": "stdout",
     "output_type": "stream",
     "text": [
      "Predicted Cluster: [0]\n"
     ]
    },
    {
     "name": "stderr",
     "output_type": "stream",
     "text": [
      "C:\\Python312\\Lib\\site-packages\\sklearn\\utils\\validation.py:2739: UserWarning: X does not have valid feature names, but KMeans was fitted with feature names\n",
      "  warnings.warn(\n"
     ]
    }
   ],
   "source": [
    "# Future mein model load karne ke liye:\n",
    "loaded_model = joblib.load(\"kmeans_model.pkl\")\n",
    "\n",
    "# New data ke liye prediction:\n",
    "new_data = [[30, 60000, 1, 0]]  # [Age, Income, Gender_encoded, City_encoded]\n",
    "cluster = loaded_model.predict(new_data)\n",
    "print(\"Predicted Cluster:\", cluster)"
   ]
  },
  {
   "cell_type": "code",
   "execution_count": null,
   "id": "b730b832-5b9e-4c73-b31d-7dac88bbba40",
   "metadata": {},
   "outputs": [],
   "source": [
    "\n"
   ]
  },
  {
   "cell_type": "code",
   "execution_count": null,
   "id": "9591f6a8-c8fe-4bc6-b333-fe7f4725e03f",
   "metadata": {},
   "outputs": [],
   "source": []
  }
 ],
 "metadata": {
  "kernelspec": {
   "display_name": "Python 3 (ipykernel)",
   "language": "python",
   "name": "python3"
  },
  "language_info": {
   "codemirror_mode": {
    "name": "ipython",
    "version": 3
   },
   "file_extension": ".py",
   "mimetype": "text/x-python",
   "name": "python",
   "nbconvert_exporter": "python",
   "pygments_lexer": "ipython3",
   "version": "3.12.6"
  }
 },
 "nbformat": 4,
 "nbformat_minor": 5
}
