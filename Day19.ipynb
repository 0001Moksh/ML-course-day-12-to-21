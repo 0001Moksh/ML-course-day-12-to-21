{
 "cells": [
  {
   "cell_type": "markdown",
   "id": "0925626a-0f7c-448f-bf12-47366100fab8",
   "metadata": {},
   "source": [
    "# K Mean Clustering "
   ]
  },
  {
   "cell_type": "code",
   "execution_count": null,
   "id": "cdd98192-c747-4afc-84c9-b2a1bbdacda8",
   "metadata": {},
   "outputs": [],
   "source": []
  }
 ],
 "metadata": {
  "kernelspec": {
   "display_name": "Python 3 (ipykernel)",
   "language": "python",
   "name": "python3"
  },
  "language_info": {
   "codemirror_mode": {
    "name": "ipython",
    "version": 3
   },
   "file_extension": ".py",
   "mimetype": "text/x-python",
   "name": "python",
   "nbconvert_exporter": "python",
   "pygments_lexer": "ipython3",
   "version": "3.12.6"
  }
 },
 "nbformat": 4,
 "nbformat_minor": 5
}
