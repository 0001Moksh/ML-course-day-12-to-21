{
 "cells": [
  {
   "cell_type": "code",
   "execution_count": null,
   "id": "ebc1259d-b48b-430f-83ac-00eaec358f8b",
   "metadata": {},
   "outputs": [],
   "source": []
  }
 ],
 "metadata": {
  "kernelspec": {
   "display_name": "",
   "name": ""
  },
  "language_info": {
   "name": ""
  }
 },
 "nbformat": 4,
 "nbformat_minor": 5
}
